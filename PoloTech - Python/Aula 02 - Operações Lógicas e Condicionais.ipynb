{
  "cells": [
    {
      "cell_type": "markdown",
      "metadata": {
        "id": "KeKnauybkvbo"
      },
      "source": [
        "## Aula 02 - Operações Lógicas e Condicionais\n",
        "\n",
        "Nesta aula, serão discutidos os seguintes tópicos:\n",
        "- Variável booleana;\n",
        "- Operação Lógica;\n",
        "- Expressões Condicionais.\n"
      ]
    },
    {
      "cell_type": "markdown",
      "metadata": {
        "id": "J1pjEbwTkvb2"
      },
      "source": [
        "## "
      ]
    },
    {
      "cell_type": "markdown",
      "metadata": {
        "id": "M1oib8-O7Bac"
      },
      "source": [
        "## 1. Variável booleana\n",
        "\n",
        "Ao estudar os tipos de variáveis, foi apresentado o tipo de variável __booleano__, onde atribui-se apenas dois tipos de valores, `True` e `False`. Assim como os demais tipos de variáveis, é possível fazer algumas operações com as variáveis de tipo booleano, conhecidas como __operações lógicas__.\n",
        "\n",
        "Recapitulando alguns exemplos de variável com o tipo booleano:"
      ]
    },
    {
      "cell_type": "code",
      "execution_count": null,
      "metadata": {
        "id": "2HxKqHIEkvb6",
        "outputId": "e1afe17b-165a-42e2-ded2-45a3c8d497f6"
      },
      "outputs": [
        {
          "name": "stdout",
          "output_type": "stream",
          "text": [
            "True\n",
            "<class 'bool'>\n"
          ]
        }
      ],
      "source": [
        "# Criando uma variavel com True\n",
        "bool1 = True\n",
        "print(bool1)\n",
        "print(type(bool1))"
      ]
    },
    {
      "cell_type": "code",
      "execution_count": null,
      "metadata": {
        "id": "_f4GT25LkvcB",
        "outputId": "69384955-ee9d-497e-bd92-7a3898cdb2e2"
      },
      "outputs": [
        {
          "name": "stdout",
          "output_type": "stream",
          "text": [
            "False\n",
            "<class 'bool'>\n"
          ]
        }
      ],
      "source": [
        "# Criando uma variavel com False\n",
        "bool2 = False\n",
        "print(bool2)\n",
        "print(type(bool2))"
      ]
    },
    {
      "cell_type": "markdown",
      "metadata": {
        "id": "8iYjat8mkvcD"
      },
      "source": [
        "## "
      ]
    },
    {
      "cell_type": "markdown",
      "metadata": {
        "id": "OKDzQD0NkvcE"
      },
      "source": [
        "## 2. Operações Lógicas\n",
        "\n",
        "Nos tópicos a seguir, será discutido a respeito dos principais tipos de operações lógicas comumente utilizdas:"
      ]
    },
    {
      "cell_type": "markdown",
      "metadata": {
        "id": "_BKkz43okvcF"
      },
      "source": [
        "### Comparações\n",
        "\n",
        "As comparações são utilizadas quando quer se entender a relação entre duas variáveis booleanas de acordo com alguns dos operadores a seguir:\n",
        "\n",
        "<br>\n",
        "\n",
        "- Maior que: >\n",
        "- Maior ou igual: >=\n",
        "- Menor que: <\n",
        "- Menor ou igual: <=\n",
        "- Igual: ==\n",
        "- Diferente: !=\n",
        "\n",
        "<br>\n",
        "\n",
        "Para fazer as comporações, existem algumas maneiras aplicáveis conforme os exemplos a seguir:"
      ]
    },
    {
      "cell_type": "markdown",
      "metadata": {
        "id": "kzuiKilIkvcH"
      },
      "source": [
        "- __Aplicação direta da comparação__:"
      ]
    },
    {
      "cell_type": "code",
      "execution_count": null,
      "metadata": {
        "id": "Rjb7IbB0kvcK",
        "outputId": "7dd6c05e-c7eb-4b4c-c7d0-11d5c6931135"
      },
      "outputs": [
        {
          "data": {
            "text/plain": [
              "False"
            ]
          },
          "execution_count": 4,
          "metadata": {},
          "output_type": "execute_result"
        }
      ],
      "source": [
        "5 == 3"
      ]
    },
    {
      "cell_type": "code",
      "execution_count": null,
      "metadata": {
        "id": "9FNTtia1kvcM",
        "outputId": "4dcfe301-e60b-4746-c88b-894a485ad379"
      },
      "outputs": [
        {
          "data": {
            "text/plain": [
              "True"
            ]
          },
          "execution_count": 5,
          "metadata": {},
          "output_type": "execute_result"
        }
      ],
      "source": [
        "'rosa' != 'azul'"
      ]
    },
    {
      "cell_type": "code",
      "execution_count": null,
      "metadata": {
        "id": "oEE2JGbXkvcN",
        "outputId": "e1880c55-7b71-41f7-b262-5e2d90f79199"
      },
      "outputs": [
        {
          "data": {
            "text/plain": [
              "True"
            ]
          },
          "execution_count": 6,
          "metadata": {},
          "output_type": "execute_result"
        }
      ],
      "source": [
        "-150 <= -140"
      ]
    },
    {
      "cell_type": "markdown",
      "metadata": {
        "id": "GsXYM9OZkvcO"
      },
      "source": [
        "- __Salvando a comparação em uma variável__:"
      ]
    },
    {
      "cell_type": "code",
      "execution_count": null,
      "metadata": {
        "id": "xkRraBE7kvcP",
        "outputId": "9d7e28c5-2a63-4417-e0f1-8366e0d35ecd"
      },
      "outputs": [
        {
          "name": "stdout",
          "output_type": "stream",
          "text": [
            "True\n"
          ]
        }
      ],
      "source": [
        "comparacao1 = 25 != -25\n",
        "print(comparacao1)"
      ]
    },
    {
      "cell_type": "code",
      "execution_count": null,
      "metadata": {
        "id": "1a32fuBhkvcQ",
        "outputId": "36b485c7-9181-4ada-ad1b-d45701a39011"
      },
      "outputs": [
        {
          "name": "stdout",
          "output_type": "stream",
          "text": [
            "False\n"
          ]
        }
      ],
      "source": [
        "comparacao2 = 3 >= 4\n",
        "print(comparacao2)"
      ]
    },
    {
      "cell_type": "code",
      "execution_count": null,
      "metadata": {
        "id": "JtyYPMACkvcR",
        "outputId": "3e053072-0a18-4cf7-e6f2-ac4ffbc95a33"
      },
      "outputs": [
        {
          "name": "stdout",
          "output_type": "stream",
          "text": [
            "True\n"
          ]
        }
      ],
      "source": [
        "comparacao3 = 'aac' > 'aab'\n",
        "print(comparacao3)"
      ]
    },
    {
      "cell_type": "markdown",
      "metadata": {
        "id": "RBXYwgqokvcS"
      },
      "source": [
        "- __Comparando duas variáveis diferentes__:"
      ]
    },
    {
      "cell_type": "code",
      "execution_count": null,
      "metadata": {
        "id": "Qf8AYtGWkvcT",
        "outputId": "6646cabc-f630-41a8-f919-1ce72135cd86"
      },
      "outputs": [
        {
          "name": "stdout",
          "output_type": "stream",
          "text": [
            "False\n",
            "True\n",
            "True\n"
          ]
        }
      ],
      "source": [
        "var1 = 35\n",
        "var2 = 27\n",
        "\n",
        "print(var1 == var2)\n",
        "print(var1 >= var2)\n",
        "print(var1 != var2)"
      ]
    },
    {
      "cell_type": "markdown",
      "metadata": {
        "id": "AP4Q-EJakvcU"
      },
      "source": [
        "> Note que o operador para comparar se 2 valores são iguais é ==, e não =. Isso ocorre porque o operador = é o nosso operador de atribuição: ele diz que a variável à sua esquerda deve receber o valor da expressão à direita. O operador de == irá testar se o valor à sua esquerda é igual ao valor à sua direita e irá responder True ou False, como todos os outros operadores de comparação."
      ]
    },
    {
      "cell_type": "markdown",
      "metadata": {
        "id": "uv-Kd_iAkvcV"
      },
      "source": [
        "## "
      ]
    },
    {
      "cell_type": "markdown",
      "metadata": {
        "id": "b5fSa7x37SBI"
      },
      "source": [
        "### Negação lógica\n",
        "\n",
        "A negação é um operador lógico bem importante onde ele inverte o resultado da expressão. Ou seja, se a resposta seria um `True` com a negação ela será um `False` e vice-versa. Para utilizar a negação lógica em _Python_ utiliza-se a expressão `not`, conforme o exemplo a seguir:"
      ]
    },
    {
      "cell_type": "code",
      "execution_count": null,
      "metadata": {
        "id": "pQD-T0WfkvcW",
        "outputId": "c2264be7-ad0e-4125-f541-1cc4ffd46303"
      },
      "outputs": [
        {
          "data": {
            "text/plain": [
              "True"
            ]
          },
          "execution_count": 11,
          "metadata": {},
          "output_type": "execute_result"
        }
      ],
      "source": [
        "4 != 2"
      ]
    },
    {
      "cell_type": "code",
      "execution_count": null,
      "metadata": {
        "id": "3o6NKnuBkvcX",
        "outputId": "ee91d3f4-6b93-4b53-f721-d631bfd14c68"
      },
      "outputs": [
        {
          "data": {
            "text/plain": [
              "False"
            ]
          },
          "execution_count": 12,
          "metadata": {},
          "output_type": "execute_result"
        }
      ],
      "source": [
        "not 4 != 2"
      ]
    },
    {
      "cell_type": "markdown",
      "metadata": {
        "id": "dKQiQ4pJ7pSZ"
      },
      "source": [
        "PAra resumir a ideia da Negação Lógica, assim como de outros tipos de operadores, utiliza-se a __tabela-verdade__ que organiza e demonstra todos os casos possíveis. No caso da negação lógica, tem a seguinte tabela-verdade:\n",
        "\n",
        "<br>\n",
        "\n",
        "|   __A__   | __not A__ |\n",
        "|:-----:|:-----:|\n",
        "|  True | False |\n",
        "| False |  True |\n",
        "\n",
        "<br>"
      ]
    },
    {
      "cell_type": "markdown",
      "metadata": {
        "id": "79YKYC8xkvcZ"
      },
      "source": [
        "### Conjunção lógica (Operador AND | E)\n",
        "\n",
        "Foi visto como é utilizado os operadores lógicos para determinar entre duas variáveis com a condição de saída lógica. Apesar disso, ´comumente será necessário avaliar duas ou mais condições sejam __simultaneamente verdadeiras__ para que o resultado seja verdadeiro. Ou seja, tem-se uma expressão como a do exemplo:\n",
        "\n",
        "Para passar na disciplina de programação em _Python_ precisa-se que:\n",
        "- A média das atividades seja maior que 7 __E__ que a presença seja maior que 75%;\n",
        "\n",
        "Este tipo de operação que é conhecido como __conjunção lógica__ ou também como __operador E__ (no caso __operador AND__ em inglês), devido ao operador E obrigar que ambas as condições sejam verdadeiras. No caso avaliando com a tabela-verdade:\n",
        "\n",
        "<br>\n",
        "\n",
        "| **A** | **B** | **A and B** |\n",
        "|:-----:|:-----:|:-----------:|\n",
        "|  True |  True |     True    |\n",
        "|  True | False |    False    |\n",
        "| False |  True |    False    |\n",
        "| False | False |    False    |\n",
        "\n",
        "<br>\n",
        "\n",
        "Para ficar, segue o exemplo onde pede-se o valor da média das provas do aluno e sua presença e retorna `True` ou `False` para se o aluno foi aprovado:"
      ]
    },
    {
      "cell_type": "code",
      "execution_count": null,
      "metadata": {
        "id": "kb4ZUmEnkvcb",
        "outputId": "21c1764c-4441-4e64-9e68-edff971a9f7d"
      },
      "outputs": [
        {
          "name": "stdout",
          "output_type": "stream",
          "text": [
            "Digite a sua média: 7\n",
            "Digite a sua presença: 0.75\n",
            "O aluno foi aprovado?  False\n"
          ]
        }
      ],
      "source": [
        "media = float(input('Digite a sua média: '))\n",
        "presenca = float(input('Digite a sua presença: '))\n",
        "\n",
        "print('O aluno foi aprovado? ', media > 7 and presenca > 0.75)"
      ]
    },
    {
      "cell_type": "markdown",
      "metadata": {
        "id": "wS2OViAxkvcc"
      },
      "source": [
        "## "
      ]
    },
    {
      "cell_type": "markdown",
      "metadata": {
        "id": "HQzisikx8CCF"
      },
      "source": [
        "### Disjunção lógica (Operador OU | OR)\n",
        "\n",
        "\n",
        "A disjunção lógica ou também conhecida como operador OU (operador OR em inglês), funciona de maneira quase que análoga que a conjunção lógico, mas basta que __uma das condições__ entre várias analisadas para que a resposta do operador seja verdadeira. Seguindo pela tabela-verdade tem-se que:\n",
        "\n",
        "<br>\n",
        "\n",
        "| **A** | **B** | **A or B** |\n",
        "|:-----:|:-----:|:-----------:|\n",
        "|  True |  True |     True    |\n",
        "|  True | False |     True    |\n",
        "| False |  True |     True    |\n",
        "| False | False |    False    |\n",
        "\n",
        "<br>\n",
        "\n",
        "Pegando como exemplo uma liquidação de produtos na _Black Friday_, a promoção durante durante um período vigente (por exemplo até dia 20) __OU__ enquanto durarem os estoques (ou seja, estoque > 0). Para isso foi desenvolvido o código abaixo:"
      ]
    },
    {
      "cell_type": "code",
      "execution_count": null,
      "metadata": {
        "id": "S3F24Wuzkvce",
        "outputId": "e1e77636-ab5d-4def-bea0-b79b63772bd7"
      },
      "outputs": [
        {
          "name": "stdout",
          "output_type": "stream",
          "text": [
            "Que dia é hoje?: 7\n",
            "Quantos produtos temos em estoque?: 0\n",
            "A promoção da Black Friday já acabou? True\n"
          ]
        }
      ],
      "source": [
        "hoje = int(input('Que dia é hoje?: '))\n",
        "estoque = int(input('Quantos produtos temos em estoque?: '))\n",
        "\n",
        "print('A promoção da Black Friday já acabou?', hoje > 20 or estoque == 0)"
      ]
    },
    {
      "cell_type": "markdown",
      "metadata": {
        "id": "79nbC6tpkvcf"
      },
      "source": [
        "> Resumo:\n",
        "> \n",
        "> * not: inverte a expressão original\n",
        "> * and: verdadeiro apenas se ambas as condições forem verdadeiras\n",
        "> * or: falso apenas se ambas as condições forem falsas"
      ]
    },
    {
      "cell_type": "markdown",
      "metadata": {
        "id": "hjK1fzorkvcf"
      },
      "source": [
        "## "
      ]
    },
    {
      "cell_type": "markdown",
      "metadata": {
        "id": "U48mm37R8X_Q"
      },
      "source": [
        "### Valores Truthy/Falsy\n",
        "\n",
        "Valores não-booleanos em _Python_, como inteiros ou _strings_, podem ser convertidos para booleanos utilizando a função `bool`, da mesma maneira que utilizamos `int` e `float` em exemplos anteriores para converter entradas de _string_ para número.\n",
        "\n",
        "Certos valores serão convertidos para `True`, enquanto outros serão convertidos para `False`. Em certos contextos, como expressões condicionais - que serão estudadas muito em breve - essa conversão ocorre de maneira implícita. Quando um valor pode ser interpretado como `True`, dizemos que ele é um valor __Truthy__, e quando ele pode ser interpretado como `False`, ele é conhecido como um valor __Falsy__.\n",
        "\n",
        "Valores _Falsy_ comuns são:\n",
        "\n",
        "* O valor inteiro 0;\n",
        "* O valor real 0.0;\n",
        "* Strings vazias (strings com 0 caracteres);\n",
        "* Coleções vazias (listas, tuplas, dicionários etc. com 0 elementos);\n",
        "* A constante None, que representa uma variável \"vazia\".\n",
        "\n",
        "Valores _Truthy_ comuns são:\n",
        "\n",
        "* Inteiros diferentes de 0\n",
        "* Reais diferentes de 0.0\n",
        "* Strings contendo ao menos 1 caractere\n",
        "* Coleções (listas, tuplas, dicionários etc.) com pelo menos 1 elemento"
      ]
    },
    {
      "cell_type": "markdown",
      "metadata": {
        "id": "jBF_u8SKkvcg"
      },
      "source": [
        "## "
      ]
    },
    {
      "cell_type": "markdown",
      "metadata": {
        "id": "_sSl9cm39Nea"
      },
      "source": [
        "## 3. Expressões Condicionais\n",
        "\n",
        "Visto os operadores lógicos, pode-se montar sequências de códigos estabelecendo regras de execução de acordo com os operadores lógicos necessários. Esse tipo de código é conhecido como __expressões condicionais__, onde será discutidos os principais condicionais __se__, __senão__ e __senão-se__.\n",
        "\n",
        "<br>\n",
        "\n",
        "###  Condicional IF (Se)\n",
        "\n",
        "<br>\n",
        "\n",
        "Uma condicional é uma instrução em _Python_ que decide se outras linhas serão ou não executadas dependendo do resultado de uma condição aplicando um operador lógico. Se a condição for verdadeira, as linhas são executadas, caso contrário, o trecho de código será ignorado. O condicional mais simples é o __IF__ ou __se__ em português, que irá avalia se determinada condição for verdadeira,  vai executar o trecho de código dentro do condicional. Por exemplo, será criado um código que pede a nota de 3 provas do aluno e devolve caso ele seja aprovado:"
      ]
    },
    {
      "cell_type": "code",
      "execution_count": null,
      "metadata": {
        "id": "vq8nUoXfkvch",
        "outputId": "27a1da06-443e-473b-baf9-c272a129de64"
      },
      "outputs": [
        {
          "name": "stdout",
          "output_type": "stream",
          "text": [
            "Digite a nota 1: 8\n",
            "Digite a nota 2: 10\n",
            "Digite a nota 3: 10\n",
            "Média:  9.333333333333334\n",
            "Aprovado\n"
          ]
        }
      ],
      "source": [
        "nota1 = float(input('Digite a nota 1: '))\n",
        "nota2 = float(input('Digite a nota 2: '))\n",
        "nota3 = float(input('Digite a nota 3: '))\n",
        "\n",
        "media = (nota1 + nota2 + nota3)/3\n",
        "\n",
        "print('Média: ', media)\n",
        "\n",
        "# Caso a nota seja maior que 7.5, eu vou falar que foi aprovado\n",
        "if media > 7.5:\n",
        "    print(\"Aprovado\")"
      ]
    },
    {
      "cell_type": "markdown",
      "metadata": {
        "id": "LUW3jGJKkvck"
      },
      "source": [
        "> Para dizermos que uma ou mais linhas \"pertencem\" ao  if ou qualquer outro condicional, usamos um símbolo de parágrafo (tecla \"Tab\" no teclado). O programa sabe que o if \"acabou\" quando as linhas param de ter \"tabs\". Esses tabs são chamados de indentação. Tanto no if quanto no restante das estruturas de controle que estudaremos é obrigatório ter pelo menos 1 linha indentada abaixo da linha de controle."
      ]
    },
    {
      "cell_type": "markdown",
      "metadata": {
        "id": "nJeNz9e-kvcl"
      },
      "source": [
        "## "
      ]
    },
    {
      "cell_type": "markdown",
      "metadata": {
        "id": "5Xwftf4Z9gda"
      },
      "source": [
        "## Condicional ELSE (Senão)\n",
        "\n",
        "O ocndicional __else__ (ou senão em português), faz o papel junto com o if de devolver alternativa caso o condicional do if não seja verdadeira. Ou seja, para o exemplo das notas dos alunos, caso a média não seja maior que 7.5, o programa agora deve retorna que o aluno foi reprovado:"
      ]
    },
    {
      "cell_type": "code",
      "execution_count": null,
      "metadata": {
        "id": "fGukjlyqkvcm",
        "outputId": "88b2fbca-8717-48c9-be9f-8bfba62bfa37"
      },
      "outputs": [
        {
          "name": "stdout",
          "output_type": "stream",
          "text": [
            "Digite a nota 1: 5\n",
            "Digite a nota 2: 6\n",
            "Digite a nota 3: 6\n",
            "Média:  5.666666666666667\n",
            "Reprovado\n"
          ]
        }
      ],
      "source": [
        "nota1 = float(input('Digite a nota 1: '))\n",
        "nota2 = float(input('Digite a nota 2: '))\n",
        "nota3 = float(input('Digite a nota 3: '))\n",
        "\n",
        "media = (nota1 + nota2 + nota3)/3\n",
        "\n",
        "print('Média: ', media)\n",
        "\n",
        "# Caso a nota seja maior que 7.5, eu vou falar que foi aprovado\n",
        "if media > 7.5:\n",
        "    print(\"Aprovado\")\n",
        "if media <= 7.5:\n",
        "    print(\"Reprovado\")"
      ]
    },
    {
      "cell_type": "code",
      "execution_count": null,
      "metadata": {
        "id": "ipnFe0Tckvco",
        "outputId": "1580845d-96a1-452f-a77a-88c2840765e6"
      },
      "outputs": [
        {
          "name": "stdout",
          "output_type": "stream",
          "text": [
            "Digite a nota 1: 8\n",
            "Digite a nota 2: 8\n",
            "Digite a nota 3: 8\n",
            "Média:  8.0\n",
            "Aprovado\n",
            "Vai para recuperação\n"
          ]
        }
      ],
      "source": [
        "nota1 = float(input('Digite a nota 1: '))\n",
        "nota2 = float(input('Digite a nota 2: '))\n",
        "nota3 = float(input('Digite a nota 3: '))\n",
        "\n",
        "media = (nota1 + nota2 + nota3)/3\n",
        "\n",
        "print('Média: ', media)\n",
        "\n",
        "# Caso a nota seja maior que 7.5, eu vou falar que foi aprovado\n",
        "if media > 7.5:\n",
        "    print(\"Aprovado\")\n",
        "if media > 5:\n",
        "    print(\"Vai para recuperação\")\n",
        "if media <= 5:\n",
        "    print('Reprovado')"
      ]
    },
    {
      "cell_type": "markdown",
      "metadata": {
        "id": "cs7-5t6dkvcp"
      },
      "source": [
        "Importante ressaltar que o mesmo programa poderia ser montado com diversos IFs;"
      ]
    },
    {
      "cell_type": "code",
      "execution_count": null,
      "metadata": {
        "id": "uVy1cx1wkvcp",
        "outputId": "33a748c6-1495-4eeb-bcc9-60e08e2bb225"
      },
      "outputs": [
        {
          "name": "stdout",
          "output_type": "stream",
          "text": [
            "Digite a nota 1: 6\n",
            "Digite a nota 2: 6\n",
            "Digite a nota 3: 7\n",
            "Média:  6.333333333333333\n",
            "Reprovado\n"
          ]
        }
      ],
      "source": [
        "nota1 = float(input('Digite a nota 1: '))\n",
        "nota2 = float(input('Digite a nota 2: '))\n",
        "nota3 = float(input('Digite a nota 3: '))\n",
        "\n",
        "media = (nota1 + nota2 + nota3)/3\n",
        "\n",
        "print('Média: ', media)\n",
        "\n",
        "# Caso a nota seja maior que 7.5, eu vou falar que foi aprovado\n",
        "if media > 7.5:\n",
        "    print(\"Aprovado\")\n",
        "else:\n",
        "    print('Reprovado')"
      ]
    },
    {
      "cell_type": "markdown",
      "metadata": {
        "id": "E1zdimfb92xA"
      },
      "source": [
        "O programa acima também é funcional mas no caso onde as duas situações são __mutuamente exclusivas__, ou seja, se uma acontecer consequentemente a outra não acontece, o idela será utilizar o par _if_/_else_ para evitar eventuais erros, principalmente quando começar a desenvolver códigos mais complexos."
      ]
    },
    {
      "cell_type": "markdown",
      "metadata": {
        "id": "Wj62tZ0skvcr"
      },
      "source": [
        "## "
      ]
    },
    {
      "cell_type": "markdown",
      "metadata": {
        "id": "DdKkqo1T-Cvz"
      },
      "source": [
        "### Aninhando Condicionais\n",
        "\n",
        "Ainhar condições seria implementar novos _if's/else's_ dentro de outros condicionais já estabelecidos no código. Seguindo o exemplo da média das 3 provas, vamos agora seguir as seguintes regras:\n",
        "\n",
        "<br>\n",
        "\n",
        "Se nota maior ou igual a 5: \n",
        "- Se a nota tiver entre 5 e 7.5, o aluno precisa entregar um trabalho complementar;\n",
        "- Senão (ou seja, nota maior 7.5) o aluno está aprovado;\n",
        "\n",
        "Senão:\n",
        "- Se nota estiver entre 3 e 5, o aluno vai para recuperação;\n",
        "- Senão o aluno será reprovado.\n",
        "\n",
        "A implementação em _Python_ segue o código abaixo:"
      ]
    },
    {
      "cell_type": "code",
      "execution_count": null,
      "metadata": {
        "id": "iWQixuypkvcs",
        "outputId": "decaba25-1375-4d79-ee5b-5fe3986f7ebe"
      },
      "outputs": [
        {
          "name": "stdout",
          "output_type": "stream",
          "text": [
            "Digite a nota 1: 1\n",
            "Digite a nota 2: 1\n",
            "Digite a nota 3: 2\n",
            "Média:  1.3333333333333333\n",
            "Reprovado\n"
          ]
        }
      ],
      "source": [
        "nota1 = float(input('Digite a nota 1: '))\n",
        "nota2 = float(input('Digite a nota 2: '))\n",
        "nota3 = float(input('Digite a nota 3: '))\n",
        "\n",
        "media = (nota1 + nota2 + nota3)/3\n",
        "\n",
        "print('Média: ', media)\n",
        "\n",
        "if media >= 5:\n",
        "    if media > 7.5:\n",
        "        print('Aprovado')\n",
        "    else:\n",
        "        print(\"Entregar um trabalho complementar\")\n",
        "else:\n",
        "    if media >= 3:\n",
        "        print('Vai para recuperação')\n",
        "    else:\n",
        "        print('Reprovado')"
      ]
    },
    {
      "cell_type": "markdown",
      "metadata": {
        "id": "MZTtmiyQkvct"
      },
      "source": [
        "## "
      ]
    },
    {
      "cell_type": "markdown",
      "metadata": {
        "id": "r7f4myFK-iJ6"
      },
      "source": [
        "### Condicional ELIF  (SENÃO-SE)\n",
        "\n",
        "Conforme é construída a lógica do código com vários condicionais _if/else_ aninhados, o código começa a ficar confuso e não tão legível de fato, formando a estrutura de uma escada:\n",
        "\n",
        "<br>\n",
        "\n",
        "```\n",
        "Se\n",
        "Senão:\n",
        "    Se\n",
        "    Senão:\n",
        "        Se\n",
        "        Senão:\n",
        "            Se:\n",
        "            Senão:\n",
        "                Se:\n",
        "                 ...\n",
        "                 \n",
        "```\n",
        "\n",
        "<br>\n",
        "\n",
        "Isso pode tornar o código bastante complexo e difícil de atualizar ou corrigir erros posteriormente. Para evitar iso, no _Python_ existe um condicional composto chamado __elif__ (ou seja, em pôrtugues senão-se), que funciona de form análoga além de ajudar na organização do código.\n",
        "\n",
        "A lógica do _elif_ consiste em executar o primeiro _elif_ apenas se o _if_ inicial não for satisfeito, funcionando assim como um _else_, mas também existe uma condição intrínseca do próprio _elif_ (funcionando como um _if_ também).\n",
        "\n",
        "Vamos reescrever o código com os condicionais anteriores agora utilizando também _elif_:"
      ]
    },
    {
      "cell_type": "code",
      "execution_count": null,
      "metadata": {
        "id": "qptUo7hzkvcu",
        "outputId": "d9621ca6-0c17-4715-8935-b68be59d5a26"
      },
      "outputs": [
        {
          "name": "stdout",
          "output_type": "stream",
          "text": [
            "Digite a nota 1: 1\n",
            "Digite a nota 2: 2\n",
            "Digite a nota 3: 0\n",
            "Média:  1.0\n",
            "Reprovado\n"
          ]
        }
      ],
      "source": [
        "nota1 = float(input('Digite a nota 1: '))\n",
        "nota2 = float(input('Digite a nota 2: '))\n",
        "nota3 = float(input('Digite a nota 3: '))\n",
        "\n",
        "media = (nota1 + nota2 + nota3)/3\n",
        "\n",
        "print('Média: ', media)\n",
        "\n",
        "if media > 7.5:\n",
        "    print('Aprovado')\n",
        "elif media >= 5:\n",
        "    print('Vai entregar um trabalho complementar')\n",
        "elif media >= 3:\n",
        "    print('Vai para a recuperação')\n",
        "else:\n",
        "    print('Reprovado')"
      ]
    },
    {
      "cell_type": "markdown",
      "metadata": {
        "id": "rqf4mSUzkvcv"
      },
      "source": [
        "O _else_ no final do bloco de código é opcional no caso, podendo não ser utilizado. E em relação ao _elif's_, pode-se ter quantos forem necessários dentro do código, onde caso um _elif_ seja verdadeiro, os demais no código seram ignorados."
      ]
    },
    {
      "cell_type": "markdown",
      "metadata": {
        "id": "kj1hDmuRkvcv"
      },
      "source": [
        "## "
      ]
    },
    {
      "cell_type": "markdown",
      "metadata": {
        "id": "i1IB40kJAzWh"
      },
      "source": [
        "## Exercícios"
      ]
    },
    {
      "cell_type": "markdown",
      "metadata": {
        "id": "sQO-AQWDkvcw"
      },
      "source": [
        "__1)__ Desenvolva um código que recebe o valor de peso (em kgs) e a altura (em metros) de uma pessoa e devolva um print do IMC e em qual categoria de IMC ela se encontra. Para calcular deve-se utilizar a fórmula a seguir:\n",
        "\n",
        "<br>\n",
        "\n",
        "$$ IMC = \\frac{peso}{(altura)^2} $$\n",
        "\n",
        "<br>\n",
        "\n",
        "E as faixas de IMC são classificadas segundo a tabela abaixo:\n",
        "\n",
        "<br>\n",
        "\n",
        "|      **IMC**      |      **Faixa**     |\n",
        "|:-----------------:|:------------------:|\n",
        "|       < 18,5      |       Subpeso      |\n",
        "| entre 18,6 e 24,9 |     Peso Ideal     |\n",
        "| entre 25,0 e 29,9 |    Acima do Peso   |\n",
        "| entre 30,0 e 34,9 |  Obesidade grau I  |\n",
        "| entre 35,0 e 39,9 |  Obesidade grau II |\n",
        "|      >= 40,0      | Obesidade grau III |"
      ]
    },
    {
      "cell_type": "code",
      "execution_count": null,
      "metadata": {
        "id": "sZcCqzlRkvcw"
      },
      "outputs": [],
      "source": [
        "# Exemplos\n",
        "# Teste 1 = peso = 130 kg e altura = 1,72 m \n",
        "# Resultado : IMC = 43,9, Obesidade grau III\n",
        "\n",
        "# teste II = peso = 79 kg e altura = 1,69 m\n",
        "# resultado: IMC = 27,6, Acima do Peso\n",
        "\n",
        "# Não precisa se preocupar em arredondar os valores, pode trazer com todas as casas!"
      ]
    },
    {
      "cell_type": "code",
      "execution_count": 2,
      "metadata": {
        "colab": {
          "base_uri": "https://localhost:8080/"
        },
        "id": "U2fszTDDkvcx",
        "outputId": "7699ace9-f65c-41f0-b71a-60dc2c0220d9"
      },
      "outputs": [
        {
          "output_type": "stream",
          "name": "stdout",
          "text": [
            "Qual seu peso?79\n",
            "Qual sua altura?1.69\n",
            "Acima do peso!\n"
          ]
        }
      ],
      "source": [
        "peso=float(input(\"Qual seu peso?\")) \n",
        "altura=float(input(\"Qual sua altura?\")) \n",
        "if(peso/(altura*altura)<18.5):\n",
        "  print(\"Subpeso\") \n",
        "elif (peso/(altura*altura))>=18.5 and (peso/(altura*altura))<=24.9:\n",
        " print(\"Peso Ideal\") \n",
        "elif (peso/(altura*altura))>=25 and (peso/(altura*altura))<=29.9: \n",
        "  print(\"Acima do peso!\") \n",
        "elif (peso/(altura*altura))>=30 and (peso/(altura*altura))<=34.9: \n",
        "  print(\"Obesidade grau I\") \n",
        "elif (peso/(altura*altura))>=35 and (peso/(altura*altura))<=39.9:\n",
        "  print(\"Obesidade grau II\") \n",
        "elif peso/(altura*altura)>40: \n",
        "  print(\"Obesidade grau III\")"
      ]
    },
    {
      "cell_type": "markdown",
      "metadata": {
        "id": "1fWMsBLXkvcx"
      },
      "source": [
        "_2)_ Desenvolva um código onde o programa irá recebe do usuário 3 números inteiros entre 1 e 30, e devolva os números em ordena númerica do menor para o maior. O exercício deve ser resolvido utilizando if/else/elif."
      ]
    },
    {
      "cell_type": "code",
      "execution_count": null,
      "metadata": {
        "id": "qVDDyp0lkvcy"
      },
      "outputs": [],
      "source": [
        "# Exemplos:\n",
        "# Teste 1: Entrada = 25, 12, 17\n",
        "# Resultado: 12, 17, 25\n",
        "\n",
        "# Teste 2: Entrada = 14, 22, 20\n",
        "# Resultado 14, 20, 22"
      ]
    },
    {
      "cell_type": "code",
      "execution_count": 3,
      "metadata": {
        "colab": {
          "base_uri": "https://localhost:8080/"
        },
        "id": "0i2rn_mRkvcy",
        "outputId": "677b6cea-df05-452a-f1bd-e9e18871fbf2"
      },
      "outputs": [
        {
          "output_type": "stream",
          "name": "stdout",
          "text": [
            "Insira um numero:14\n",
            "Insira um numero:22\n",
            "Insira um numero:20\n",
            "14 20 22\n"
          ]
        }
      ],
      "source": [
        "num1=int(input(\"Insira um numero:\")) \n",
        "num2=int(input(\"Insira um numero:\")) \n",
        "num3=int(input(\"Insira um numero:\")) \n",
        "if num1 < num2 and num1<num3 and num2<num3: \n",
        "  print(f'{num1} {num2} {num3}') \n",
        "elif num1 < num2 and num1<num3 and num3<num2: \n",
        "  print(f'{num1} {num3} {num2}') \n",
        "elif num2 < num1 and num2<num3 and num1<num3: \n",
        "  print(f'{num2} {num1} {num3}') \n",
        "elif num2 < num1 and num2<num3 and num3<num1: \n",
        "  print(f'{num2} {num3} {num1}') \n",
        "elif num3 < num2 and num3<num1 and num1<num2: \n",
        "  print(f'{num3} {num1} {num2}') \n",
        "elif num3 < num2 and num3<num1 and num2<num1: \n",
        "  print(f'{num3} {num2} {num1}')"
      ]
    },
    {
      "cell_type": "markdown",
      "metadata": {
        "id": "jk4IUsn_kvcz"
      },
      "source": [
        "__3 ao 5)__ O colégio Schmalkalden tem um dos sistemas mais rigorosos e complexos para a avaliação dos alunos, onde até os alunos tem dificuldades para entender realmente se de fato foram aprovados ou ficaram devendo alguma coisa. Para isso, você deverá desenvolver um código que auxilie os alunos a saberem se foram aprovados ou não. O programa deverá receber como input dos alunos as seguintes informações:\n",
        "\n",
        "<br>\n",
        "\n",
        "- Se o aluno é bolsista ou não?\n",
        "- Qual a nota das 4 provas bimestrais que o aluno tirou? (Aqui serão 4 inputs de notas que variam entre 0 e 10, podendo ser decimal);\n",
        "- Quantas listas de exercícios oram entregues ao longo do ano? (de um total de 20 listas no ano)\n",
        "- Qual foi a nota no trabalho anual desenvolvido pelo aluno?\n",
        "- Quantas faltas o aluno teve ao longo do ano?\n",
        "\n",
        "<br>\n",
        "\n",
        "Para calcular a média dos alunos, deve-se seguir a mesma regra do exercício da aula passada, conforme a equação abaixo:\n",
        "\n",
        "<br>\n",
        "\n",
        "$$ \\bar{x} = \\frac{w1*P + w2*L + w3*T}{w1 + w2 + w3}$$\n",
        "\n",
        "<br>\n",
        "\n",
        "Onde P é a média aritmética das 4 provas que o aluno fez, L vai ser a nota em relação as entregas das listas de exercícios (cada lista entregue vale 0,5 ponto) e T é a nota do trabalho. Agora, os critérios de avaliação dos alunos são conforme descrito abaixo:\n",
        "\n",
        "- __Alunos Bolsistas__: \n",
        "- Os pesos serão respectivamente $w1 = 7$, $w2 = 6$ e $w3 = 9$\n",
        "- Deve ter menos do que 5 faltas para ser aprovado, se tiver entre 5 e 10 faltas o aluno deve entregar um trabalho complementar, e por fim mais de 10 faltas reprovado diretamente\n",
        "- A média das provas tem que ser maior do 8.5 para ser aprovado, entre 6.5 e 8.5 deve fazer uma prova de recuperação e menor que 6.5, reprovado por prova;\n",
        "- As listas devem ter mais de 75% entregue para aprovado em listas, entre 10 e 15 listas o aluno deve entregar uma lista complementar, e se tiver menos que 10 listas entregues reprovado por lista;\n",
        "- A nota do trabalho deve ser maior que 6 para ser aprovado, caso contrário será reprovado por trabalho;\n",
        "\n",
        "- __Alunos Não Bolsistas__: \n",
        "- Os pesos serão respectivamente $w1 = 3$, $w2 = 8$ e $w3 = 2$\n",
        "- Deve ter menos do que 10 faltas para ser aprovado, se tiver entre 10 e 15 faltas o aluno deve entregar um trabalho complementar, e por fim mais de 15 faltas reprovado diretamente\n",
        "- A média das provas tem que ser maior do 6.5 para ser aprovado, entre 4.5 e 6.5 deve fazer uma prova de recuperação e menor que 4.5, reprovado por prova;\n",
        "- As listas devem ter mais de 50% entregue para aprovado em listas, entre 5 e 10 listas o aluno deve entregar uma lista complementar, e se tiver menos que 5 listas entregues reprovado por lista;\n",
        "- A nota do trabalho deve ser maior que 6 para ser aprovado, caso contrário será reprovado por trabalho;\n",
        "\n",
        "Então depois de todos os inputs dado pelo o aluno, o seu programa deve retornar:\n",
        "- Média das provas\n",
        "- Status da Prova (Aprovado, Prova de Recuperação ou Reprovado por Prova)\n",
        "- Status da Presença (Aprovado em Presença, Trabalho COmplementar ou Reprovado por Presença)\n",
        "- Nota das Listas\n",
        "- Status das Listas ( Aprovado, Entrega de Lista COmplementar ou Reprovado Por Lista)\n",
        "- Status do Trabalho (aprovado ou reprovado)\n"
      ]
    },
    {
      "cell_type": "markdown",
      "metadata": {
        "id": "t1jxNgAOkvcz"
      },
      "source": [
        "__3)__ Fazer o desenvolvimento do código apenas utilizando _if/else_"
      ]
    },
    {
      "cell_type": "code",
      "execution_count": null,
      "metadata": {
        "id": "3Cg-w18zkvc0"
      },
      "outputs": [],
      "source": [
        "bolsa=input(\"Aluno é bolsista S - sim ou N - não?\") \n",
        "nota1=float(input(\"Entre com a nota 1:\")) \n",
        "nota2=float(input(\"Entre com a nota 2:\")) \n",
        "nota3=float(input(\"Entre com a nota 3:\")) \n",
        "nota4=float(input(\"Entre com a nota 4:\")) \n",
        "media_notas=(nota1+nota2+nota3+nota4)/4 \n",
        "listas=int(input(\"Quantas listas foram entregues?\")) \n",
        "nota_lista=listas*0.5 \n",
        "nota_trab=float(input(\"Entre com a nota do trabalho:\")) \n",
        "faltas=int(input(\"Quantas faltas?\"))\n",
        "\n",
        "if bolsa == \"S\": \n",
        "  media_final=(media_notas7+6nota_lista+9nota_trab) \n",
        "  if faltas<5: \n",
        "    print(\"Status da Presença: Aprovado em Presença\") \n",
        "  else: \n",
        "    if faltas>=5 and faltas<=10: \n",
        "      print(\"Status da Presença: Trabalho Complementar\") \n",
        "    else: print(\"Status da Presença: Reprovado Por Presença\") \n",
        "    if media_notas>8.5: print(\"Status da Prova: Aprovado\") \n",
        "    else: \n",
        "      if media_notas>=6.5 and media_notas<=8.5: \n",
        "        print(\"Status da Prova: Prova de Recuperação\") \n",
        "      else: print(\"Status da Prova: Reprovado por prova\") \n",
        "      if listas>15: print(\"Status da Lista: Aprovado\") \n",
        "      else: \n",
        "        if lista>=10 and lista<=15: \n",
        "          print(\"Status da Lista: Entrega de Lista Complementar\") \n",
        "        else: print(\"Status da Lista: Reprovado Por Lista\") \n",
        "        if nota_trab>6: print(\"Status do Trabalho: Aprovado\") \n",
        "        else: print(\"Status do Trabalho: Reprovado\") \n",
        "else: media_final=(media_notas1+8nota_lista+2nota_trab) \n",
        "if faltas<10: \n",
        "  print(\"Status da Presença: Aprovado em Presença\") \n",
        "else: \n",
        "  if faltas>=10 and faltas<=15: print(\"Status da Presença: Trabalho Complementar\") \n",
        "  else: print(\"Status da Presença: Reprovado Por Presença\") \n",
        "  if media_notas>6.5: print(\"Status da Prova: Aprovado\") \n",
        "  else: \n",
        "    if media_notas>=4.5 and media_notas<=6.5: \n",
        "      print(\"Status da Prova: Prova de Recuperação\") \n",
        "    else: print(\"Status da Prova: Reprovado por prova\") \n",
        "    if listas>10: print(\"Status da Lista: Aprovado\") \n",
        "    else: \n",
        "      if lista>=5 and lista<=10: \n",
        "        print(\"Status da Lista: Entrega de Lista Complementar\") \n",
        "      else: print(\"Status da Lista: Reprovado Por Lista\") \n",
        "      if nota_trab>6: print(\"Status do Trabalho: Aprovado\") \n",
        "      else: print(\"Status do Trabalho: Reprovado\")\n",
        "\n",
        "print(\"A media das provas é:\",media_notas) print(\"Nota das Listas:\",listas*0.5)"
      ]
    },
    {
      "cell_type": "markdown",
      "metadata": {
        "id": "4Clt44tJkvc0"
      },
      "source": [
        "__4)__ Fazer o desenvolvimento do código agora utilizando o _elif_"
      ]
    },
    {
      "cell_type": "code",
      "execution_count": null,
      "metadata": {
        "id": "EWN170OMkvc1"
      },
      "outputs": [],
      "source": [
        "bolsa=input(\"Aluno é bolsista S - sim ou N - não?\") nota1=float(input(\"Entre com a nota 1:\")) nota2=float(input(\"Entre com a nota 2:\")) nota3=float(input(\"Entre com a nota 3:\")) nota4=float(input(\"Entre com a nota 4:\")) media_notas=(nota1+nota2+nota3+nota4)/4 listas=int(input(\"Quantas listas foram entregues?\")) nota_lista=listas*0.5 nota_trab=float(input(\"Entre com a nota do trabalho:\")) faltas=int(input(\"Quantas faltas?\"))\n",
        "\n",
        "if bolsa == \"S\": media_final=(media_notas7+6nota_lista+9nota_trab) if faltas<5: print(\"Status da Presença: Aprovado em Presença\") elif faltas>=5 and faltas<=10: print(\"Status da Presença: Trabalho Complementar\") else: print(\"Status da Presença: Reprovado Por Presença\") if media_notas>8.5: print(\"Status da Prova: Aprovado\") elif media_notas>=6.5 and media_notas<=8.5: print(\"Status da Prova: Prova de Recuperação\") else: print(\"Status da Prova: Reprovado por prova\") if listas>15: print(\"Status da Lista: Aprovado\") elif listas>=10 and listas<=15: print(\"Status da Lista: Entrega de Lista Complementar\") else: print(\"Status da Lista: Reprovado Por Lista\") if nota_trab>6: print(\"Status do Trabalho: Aprovado\") else: print(\"Status do Trabalho: Reprovado\") else: media_final=(media_notas1+8nota_lista+2nota_trab) if faltas<10: print(\"Status da Presença: Aprovado em Presença\") elif faltas>=10 and faltas<=15: print(\"Status da Presença: Trabalho Complementar\") else: print(\"Status da Presença: Reprovado Por Presença\") if media_notas>6.5: print(\"Status da Prova: Aprovado\") elif media_notas>=4.5 and media_notas<=6.5: print(\"Status da Prova: Prova de Recuperação\") else: print(\"Status da Prova: Reprovado por prova\") if listas>10: print(\"Status da Lista: Aprovado\") elif listas>=5 and listas<=10: print(\"Status da Lista: Entrega de Lista Complementar\") else: print(\"Status da Lista: Reprovado Por Lista\") if nota_trab>6: print(\"Status do Trabalho: Aprovado\") else: print(\"Status do Trabalho: Reprovado\")\n",
        "\n",
        "print(\"A media das provas é:\",media_notas) print(\"Nota das Listas:\",listas*0.5)"
      ]
    },
    {
      "cell_type": "markdown",
      "metadata": {
        "id": "owoXmoDekvc1"
      },
      "source": [
        "__5)__ Explique o que você acha sobre fazer esse exercício apenas utilizando _ifs_? É possível chegar na resultados para todos os casos? (Caso queira, você pode tentar fazer este código para exemplificar)"
      ]
    },
    {
      "cell_type": "code",
      "execution_count": null,
      "metadata": {
        "id": "wynLqLifkvc2"
      },
      "outputs": [],
      "source": [
        "O programa poderia sim ser elaborado apenas com Ifs pois não existe nenhuma condição que poderia ocorrer de ser atendidas simultaneamentes. Por o programa ser pequeno não existiria uma acrescimo pequeno de tempo de execução mas em programas grandes essa estrutura não é indicada pois algumas instruções sao executadas sem necessidade."
      ]
    }
  ],
  "metadata": {
    "colab": {
      "provenance": []
    },
    "kernelspec": {
      "display_name": "Python 3 (ipykernel)",
      "language": "python",
      "name": "python3"
    },
    "language_info": {
      "codemirror_mode": {
        "name": "ipython",
        "version": 3
      },
      "file_extension": ".py",
      "mimetype": "text/x-python",
      "name": "python",
      "nbconvert_exporter": "python",
      "pygments_lexer": "ipython3",
      "version": "3.9.12"
    }
  },
  "nbformat": 4,
  "nbformat_minor": 0
}